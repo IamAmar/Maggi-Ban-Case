{
 "cells": [
  {
   "cell_type": "code",
   "execution_count": 51,
   "metadata": {
    "collapsed": false
   },
   "outputs": [],
   "source": [
    "import got\n",
    "import csv\n",
    "#tags = ['demonetization']\n",
    "tweetCriteria = got.manager.TweetCriteria().setQuerySearch('nestlemaggi OR magginoodles OR maggiban OR merimaggi OR maggieban OR magiban OR 2minutesmaggi OR attamaggi OR chickenmaggi').setSince(\"2015-06-05\").setUntil(\"2015-11-09\").setMaxTweets(100000)\n",
    "#print(type(tweetCriteria))\n",
    "\n",
    "csvFile = open('Maggi_TwitterData.csv', 'a')\n",
    "csvWriter = csv.writer(csvFile)\n",
    "csvWriter.writerow([\"Date\", \"Geo\", \"Retweets\", \"Mentions\", \"Tweet\"])\n",
    "tweet = got.manager.TweetManager.getTweets(tweetCriteria)\n",
    "for each in tweet:\n",
    "    #print each.text\n",
    "    #print each.date\n",
    "    #print \"geo::: \",each.geo\n",
    "    csvWriter.writerow([each.date, each.geo, each.retweets, each.mentions, each.text.encode('utf-8').strip()]) #.encode('utf-8').strip()\n",
    "    #csvWriter.writerow([each])\n",
    "    #print each.\n",
    "csvFile.close()\n"
   ]
  },
  {
   "cell_type": "code",
   "execution_count": 13,
   "metadata": {
    "collapsed": false
   },
   "outputs": [],
   "source": []
  },
  {
   "cell_type": "code",
   "execution_count": 20,
   "metadata": {
    "collapsed": true
   },
   "outputs": [],
   "source": []
  },
  {
   "cell_type": "code",
   "execution_count": null,
   "metadata": {
    "collapsed": false
   },
   "outputs": [],
   "source": []
  },
  {
   "cell_type": "code",
   "execution_count": null,
   "metadata": {
    "collapsed": false
   },
   "outputs": [],
   "source": []
  },
  {
   "cell_type": "code",
   "execution_count": null,
   "metadata": {
    "collapsed": false
   },
   "outputs": [],
   "source": []
  },
  {
   "cell_type": "code",
   "execution_count": null,
   "metadata": {
    "collapsed": true
   },
   "outputs": [],
   "source": []
  }
 ],
 "metadata": {
  "anaconda-cloud": {},
  "kernelspec": {
   "display_name": "Python 2",
   "language": "python",
   "name": "python2"
  },
  "language_info": {
   "codemirror_mode": {
    "name": "ipython",
    "version": 2
   },
   "file_extension": ".py",
   "mimetype": "text/x-python",
   "name": "python",
   "nbconvert_exporter": "python",
   "pygments_lexer": "ipython2",
   "version": "2.7.13"
  }
 },
 "nbformat": 4,
 "nbformat_minor": 1
}
